{
 "cells": [
  {
   "cell_type": "markdown",
   "id": "4a5a6ddc-a739-4133-8d12-c4f85f972156",
   "metadata": {},
   "source": [
    "# BCLConvert De-multiplexing Report\n",
    "\n",
    "* __Notebook version__: `v0.0.3`\n",
    "* __Created by:__ `Imperial BRC Genomics Facility`\n",
    "* __Maintained by:__ `Imperial BRC Genomics Facility`\n",
    "* __Docker image:__ `imperialgenomicsfacility/interop-notebook-image:release-v0.0.4`\n",
    "* __Github repository:__ [imperial-genomics-facility/demultiplexing_report](https://github.com/imperial-genomics-facility/demultiplexing_report)\n",
    "* __Created on:__ {{ DATE_TAG }}\n",
    "* __Sequencing run id:__ {{ SEQRUN_IGF_ID }}\n",
    "* __Contact us:__ [Imperial BRC Genomics Facility](https://www.imperial.ac.uk/medicine/research-and-impact/facilities/genomics-facility/contact-us/)\n",
    "* __License:__ [Apache License 2.0](https://github.com/imperial-genomics-facility/interop-notebook-image/blob/main/LICENSE)\n",
    "\n",
    "\n",
    "\n",
    "## Load library and generate plots"
   ]
  },
  {
   "cell_type": "code",
   "execution_count": null,
   "id": "a9f3e0f4-b78a-40ca-939d-74b54b47f8d1",
   "metadata": {},
   "outputs": [],
   "source": [
    "import numpy as np\n",
    "import pandas as pd\n",
    "from IPython.display import HTML\n",
    "from illumina.report_generator_bclconvert import get_demult_report_and_plots_for_bclconvert"
   ]
  },
  {
   "cell_type": "code",
   "execution_count": null,
   "id": "eba099d7-a818-48b1-9733-a85a0a35328d",
   "metadata": {},
   "outputs": [],
   "source": [
    "(flowcell_summary_data_plot, flowcell_project_summary_plot, \\\n",
    " merged_df, flowcell_project_summary_table, sample_dist_plots, \\\n",
    " undetermined_plots, undetermined_table, combined_ihop_df, \\\n",
    " hop_plot) = \\\n",
    "    get_demult_report_and_plots_for_bclconvert(\n",
    "        reports_dir='{{ REPORTS_DIR }}',\n",
    "        run_dir='{{ RUN_DIR }}')"
   ]
  },
  {
   "cell_type": "markdown",
   "id": "41daa76b-21aa-4a7d-90e0-132893a12700",
   "metadata": {},
   "source": [
    "## Flowcell total reads vs passing filter reads"
   ]
  },
  {
   "cell_type": "code",
   "execution_count": null,
   "id": "b691cdae-47dc-4801-afeb-14e1abba753b",
   "metadata": {},
   "outputs": [],
   "source": [
    "display(flowcell_summary_data_plot)"
   ]
  },
  {
   "cell_type": "markdown",
   "id": "3d258091-6330-4a3a-9aa8-59c7ad2d1508",
   "metadata": {},
   "source": [
    "## Project summary plot"
   ]
  },
  {
   "cell_type": "code",
   "execution_count": null,
   "id": "dfaccf61-a0d5-416a-b05e-0cd1e610e4b7",
   "metadata": {},
   "outputs": [],
   "source": [
    "display(flowcell_project_summary_plot)"
   ]
  },
  {
   "cell_type": "markdown",
   "id": "55476828-8963-468a-a974-3a66fb7fe914",
   "metadata": {},
   "source": [
    "## Project summary for lane"
   ]
  },
  {
   "cell_type": "code",
   "execution_count": null,
   "id": "561a7f21-8ee8-40ee-844a-c79cd0ab2a2e",
   "metadata": {},
   "outputs": [],
   "source": [
    "HTML(flowcell_project_summary_table.to_html(index=False))"
   ]
  },
  {
   "cell_type": "markdown",
   "id": "7d01e9ff-6279-43bc-9aea-6f9ac4ee9001",
   "metadata": {},
   "source": [
    "## Sample read counts"
   ]
  },
  {
   "cell_type": "code",
   "execution_count": null,
   "id": "46b35b9e-ccf7-43b5-8676-068d1310d826",
   "metadata": {},
   "outputs": [],
   "source": [
    "def style_low_read(s: pd.Series, props: str = '', cut_off: int = 500) -> pd.Series:\n",
    "    return np.where(s <= cut_off, props, '')\n",
    "\n",
    "HTML(merged_df.style.\\\n",
    "     apply(style_low_read, props='color:red;', cut_off=500, axis=0, subset=['# Reads',]).\\\n",
    "     apply(style_low_read, props='background-color:#ffffb3;', cut_off=500, axis=0, subset=['# Reads',]).\\\n",
    "     hide_index().to_html())"
   ]
  },
  {
   "cell_type": "markdown",
   "id": "d91c80a0-d4d6-4546-9d2b-ecc1f07e5e9f",
   "metadata": {},
   "source": [
    "## Sample read count bar plot for lane"
   ]
  },
  {
   "cell_type": "code",
   "execution_count": null,
   "id": "bd413f47-939d-4b02-a079-c86666cef452",
   "metadata": {},
   "outputs": [],
   "source": [
    "for lane_id, p in sample_dist_plots.items():\n",
    "    print('Lane {0}'.format(lane_id))\n",
    "    display(p)"
   ]
  },
  {
   "cell_type": "markdown",
   "id": "3f024647-1b0b-45af-b16c-381e5d6535ca",
   "metadata": {},
   "source": [
    "## Undetermined reads"
   ]
  },
  {
   "cell_type": "code",
   "execution_count": null,
   "id": "866796d0-c480-4e5b-a900-59579e069307",
   "metadata": {},
   "outputs": [],
   "source": [
    "HTML(undetermined_table.to_html(index=False))"
   ]
  },
  {
   "cell_type": "markdown",
   "id": "064a39f1-d2f3-4625-bf0d-32515f28d933",
   "metadata": {},
   "source": [
    "## Undetermined read count bar plot for lane"
   ]
  },
  {
   "cell_type": "code",
   "execution_count": null,
   "id": "265ab0c4-cb17-4160-86c7-3912dbb7c0a9",
   "metadata": {},
   "outputs": [],
   "source": [
    "for lane_id, p in undetermined_plots.items():\n",
    "    print('Lane {0}'.format(lane_id))\n",
    "    display(p)"
   ]
  },
  {
   "cell_type": "markdown",
   "id": "baf6ce23-56bd-4b2d-b213-dfed88d0affc",
   "metadata": {},
   "source": [
    "## Index hopping summary"
   ]
  },
  {
   "cell_type": "code",
   "execution_count": null,
   "id": "1d2bb8a8-1eef-4472-97a5-b4b20964ee7f",
   "metadata": {},
   "outputs": [],
   "source": [
    "HTML(combined_ihop_df.to_html(index=False))"
   ]
  },
  {
   "cell_type": "markdown",
   "id": "d36e8a46-e421-48a6-9c81-05e8fd78d327",
   "metadata": {},
   "source": [
    "## Index hopping bar plot for lane"
   ]
  },
  {
   "cell_type": "code",
   "execution_count": null,
   "id": "3f0d5f5a-85b3-4ab3-89a6-1c21d64338ab",
   "metadata": {},
   "outputs": [],
   "source": [
    "hop_plot"
   ]
  },
  {
   "cell_type": "code",
   "execution_count": null,
   "id": "327b4721-8782-41e1-8d31-a279878a8c85",
   "metadata": {},
   "outputs": [],
   "source": []
  }
 ],
 "metadata": {
  "kernelspec": {
   "display_name": "Python 3",
   "language": "python",
   "name": "python3"
  },
  "language_info": {
   "codemirror_mode": {
    "name": "ipython",
    "version": 3
   },
   "file_extension": ".py",
   "mimetype": "text/x-python",
   "name": "python",
   "nbconvert_exporter": "python",
   "pygments_lexer": "ipython3",
   "version": "3.7.10"
  }
 },
 "nbformat": 4,
 "nbformat_minor": 5
}
