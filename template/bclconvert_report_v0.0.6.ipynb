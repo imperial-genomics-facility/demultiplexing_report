{
 "cells": [
  {
   "cell_type": "markdown",
   "id": "4a5a6ddc-a739-4133-8d12-c4f85f972156",
   "metadata": {},
   "source": [
    "# BCLConvert De-multiplexing Report \n",
    "\n",
    "* __Notebook version__: `v0.0.6`\n",
    "* __Created by:__ `Imperial BRC Genomics Facility`\n",
    "* __Maintained by:__ `Imperial BRC Genomics Facility`\n",
    "* __Docker image:__ `imperialgenomicsfacility/interop-notebook-image:release-v0.0.4`\n",
    "* __Github repository:__ [imperial-genomics-facility/demultiplexing_report](https://github.com/imperial-genomics-facility/demultiplexing_report)\n",
    "* __Contact us:__ [Imperial BRC Genomics Facility](https://www.imperial.ac.uk/medicine/research-and-impact/facilities/genomics-facility/contact-us/)\n",
    "* __License:__ [Apache License 2.0](https://github.com/imperial-genomics-facility/interop-notebook-image/blob/main/LICENSE)\n",
    "* __Created on:__ {{ DATE_TAG }}\n",
    "* __Sequencing run id:__ {{ SEQRUN_IGF_ID }}\n"
   ]
  },
  {
   "cell_type": "code",
   "execution_count": null,
   "id": "a9f3e0f4-b78a-40ca-939d-74b54b47f8d1",
   "metadata": {},
   "outputs": [],
   "source": [
    "## Load library and generate plots\n",
    "\n",
    "import numpy as np\n",
    "import pandas as pd\n",
    "import warnings\n",
    "from IPython.display import HTML\n",
    "from illumina.report_generator_bclconvert import (\n",
    "    get_demult_report_and_plots_for_bclconvert,\n",
    "    get_samplesheet_records)\n",
    "warnings.filterwarnings(\"ignore\")"
   ]
  },
  {
   "cell_type": "code",
   "execution_count": null,
   "id": "eba099d7-a818-48b1-9733-a85a0a35328d",
   "metadata": {},
   "outputs": [],
   "source": [
    "(flowcell_summary_data_plot, flowcell_project_summary_plot, \\\n",
    " merged_df, flowcell_project_summary_table, sample_dist_plots, \\\n",
    " undetermined_plots, undetermined_table, combined_ihop_df, \\\n",
    " hop_plot) = \\\n",
    "    get_demult_report_and_plots_for_bclconvert(\n",
    "        reports_dir='{{ REPORTS_DIR }}',\n",
    "        run_dir='{{ RUN_DIR }}')"
   ]
  },
  {
   "cell_type": "markdown",
   "id": "41daa76b-21aa-4a7d-90e0-132893a12700",
   "metadata": {},
   "source": [
    "## Flowcell total reads vs passing filter reads"
   ]
  },
  {
   "cell_type": "code",
   "execution_count": null,
   "id": "b691cdae-47dc-4801-afeb-14e1abba753b",
   "metadata": {},
   "outputs": [],
   "source": [
    "display(flowcell_summary_data_plot)"
   ]
  },
  {
   "cell_type": "markdown",
   "id": "3d258091-6330-4a3a-9aa8-59c7ad2d1508",
   "metadata": {},
   "source": [
    "## Project summary plot"
   ]
  },
  {
   "cell_type": "code",
   "execution_count": null,
   "id": "dfaccf61-a0d5-416a-b05e-0cd1e610e4b7",
   "metadata": {},
   "outputs": [],
   "source": [
    "display(flowcell_project_summary_plot)"
   ]
  },
  {
   "cell_type": "markdown",
   "id": "55476828-8963-468a-a974-3a66fb7fe914",
   "metadata": {},
   "source": [
    "## Project summary for lane"
   ]
  },
  {
   "cell_type": "code",
   "execution_count": null,
   "id": "561a7f21-8ee8-40ee-844a-c79cd0ab2a2e",
   "metadata": {},
   "outputs": [],
   "source": [
    "HTML(flowcell_project_summary_table.to_html(index=False))"
   ]
  },
  {
   "cell_type": "markdown",
   "metadata": {},
   "source": [
    "## Hamming distance"
   ]
  },
  {
   "cell_type": "code",
   "execution_count": null,
   "metadata": {},
   "outputs": [],
   "source": [
    "## wikipedia code\n",
    "def hamming_distance(s1: str, s2: str) -> int:\n",
    "    \"\"\"Return the Hamming distance between equal-length sequences.\"\"\"\n",
    "    if len(s1) != len(s2):\n",
    "        raise ValueError(\"Undefined for sequences of unequal length.\")\n",
    "    return sum(el1 != el2 for el1, el2 in zip(s1, s2))\n",
    "\n",
    "def calculate_min_hamming_distance(samplesheet_path: str) -> list:\n",
    "    \"\"\"Calculate min Hamming distance for a run\"\"\"\n",
    "    try:\n",
    "        samplesheet_data = \\\n",
    "            get_samplesheet_records(samplesheets=[samplesheet_path,])\n",
    "        index_columns = ['index']\n",
    "        if 'index2' in samplesheet_data.columns:\n",
    "            samplesheet_data['index_length'] = \\\n",
    "                samplesheet_data.\\\n",
    "                apply(lambda x: len(x['index']) + len(x['index2']), axis=1)\n",
    "            index_columns.append('index2')\n",
    "        else:\n",
    "            samplesheet_data['index_length'] = \\\n",
    "                samplesheet_data.\\\n",
    "                apply(lambda x: len(x['index']), axis=1)\n",
    "        if 'Lane' in samplesheet_data.columns:\n",
    "            group_columns = [\n",
    "                'Lane', 'Sample_Project', 'index_length', 'Description']\n",
    "        else:\n",
    "            group_columns = [\n",
    "                'Sample_Project', 'index_length', 'Description']\n",
    "        output_rows = list()\n",
    "        for grp_name, g_data in samplesheet_data.groupby(group_columns):\n",
    "            min_hamming_dist = 10\n",
    "            index_data = \\\n",
    "                g_data[index_columns].to_dict(orient='records')\n",
    "            for i in range(0, len(index_data) - 1):\n",
    "                for j in range(i+1, len(index_data) - 1):\n",
    "                    if i != j:\n",
    "                        index_i = index_data[i].get('index')\n",
    "                        index_j = index_data[j].get('index')\n",
    "                        hamming_dist1 = \\\n",
    "                            hamming_distance(s1=index_i, s2=index_j)\n",
    "                        if min_hamming_dist > hamming_dist1:\n",
    "                            min_hamming_dist = hamming_dist1\n",
    "                        if 'index2' in index_columns:\n",
    "                            index2_i = index_data[i].get('index2')\n",
    "                            index2_j = index_data[j].get('index2')\n",
    "                            hamming_dist2 = \\\n",
    "                                hamming_distance(s1=index2_i, s2=index2_j)\n",
    "                            if min_hamming_dist > hamming_dist2:\n",
    "                                min_hamming_dist = hamming_dist2\n",
    "            group_row = dict(zip(group_columns, grp_name))\n",
    "            group_row.update({'min_hamming_distance': min_hamming_dist})\n",
    "            output_rows.append(group_row)\n",
    "        return output_rows\n",
    "    except Exception as e:\n",
    "        raise ValueError(e)\n",
    "\n",
    "output_rows = \\\n",
    "    calculate_min_hamming_distance(\n",
    "        samplesheet_path='{{ REPORTS_DIR }}/SampleSheet.csv')\n",
    "\n",
    "def style_low_hamming_distance(s: pd.Series, props: str = '', cut_off: int = 3) -> pd.Series:\n",
    "    return np.where(s < cut_off, props, '')\n",
    "\n",
    "html = \\\n",
    "    pd.DataFrame(output_rows).style.\\\n",
    "    apply(style_low_hamming_distance, props='color:red;', cut_off=3, axis=0, subset=['min_hamming_distance',]).\\\n",
    "    apply(style_low_hamming_distance, props='background-color:#ffffb3;', cut_off=3, axis=0, subset=['min_hamming_distance',]).\\\n",
    "    hide_index().to_html()\n",
    "HTML(html)"
   ]
  },
  {
   "cell_type": "markdown",
   "id": "7d01e9ff-6279-43bc-9aea-6f9ac4ee9001",
   "metadata": {},
   "source": [
    "## Sample read counts\n",
    "\n",
    "A list of samples with index barcodes and read count information can be found here. Please note that this table is hidden by default."
   ]
  },
  {
   "cell_type": "code",
   "execution_count": null,
   "id": "46b35b9e-ccf7-43b5-8676-068d1310d826",
   "metadata": {},
   "outputs": [],
   "source": [
    "def style_low_read(s: pd.Series, props: str = '', cut_off: int = 500) -> pd.Series:\n",
    "    return np.where(s <= cut_off, props, '')\n",
    "\n",
    "html = merged_df.style.\\\n",
    "     apply(style_low_read, props='color:red;', cut_off=500, axis=0, subset=['# Reads',]).\\\n",
    "     apply(style_low_read, props='background-color:#ffffb3;', cut_off=500, axis=0, subset=['# Reads',]).\\\n",
    "     hide_index().to_html()\n",
    "html = '<details><summary>Click to expand sample read count table</summary>' + html + '</details>'\n",
    "HTML(html)"
   ]
  },
  {
   "cell_type": "markdown",
   "id": "d91c80a0-d4d6-4546-9d2b-ecc1f07e5e9f",
   "metadata": {},
   "source": [
    "## Sample read count bar plot for lane"
   ]
  },
  {
   "cell_type": "code",
   "execution_count": null,
   "id": "bd413f47-939d-4b02-a079-c86666cef452",
   "metadata": {},
   "outputs": [],
   "source": [
    "for lane_id, p in sample_dist_plots.items():\n",
    "    print('Lane {0}'.format(lane_id))\n",
    "    display(p)"
   ]
  },
  {
   "cell_type": "markdown",
   "id": "3f024647-1b0b-45af-b16c-381e5d6535ca",
   "metadata": {},
   "source": [
    "## Undetermined reads\n",
    "\n",
    "A list of undetermined barcodes with read count information can be found here. This table is hidden by default."
   ]
  },
  {
   "cell_type": "code",
   "execution_count": null,
   "id": "866796d0-c480-4e5b-a900-59579e069307",
   "metadata": {},
   "outputs": [],
   "source": [
    "html = undetermined_table.to_html(index=False)\n",
    "html = '<details><summary>Click to expand undetermined read count table</summary>' + html + '</details>'\n",
    "HTML(html)"
   ]
  },
  {
   "cell_type": "markdown",
   "id": "064a39f1-d2f3-4625-bf0d-32515f28d933",
   "metadata": {},
   "source": [
    "## Undetermined read count bar plot for lane"
   ]
  },
  {
   "cell_type": "code",
   "execution_count": null,
   "id": "265ab0c4-cb17-4160-86c7-3912dbb7c0a9",
   "metadata": {},
   "outputs": [],
   "source": [
    "for lane_id, p in undetermined_plots.items():\n",
    "    print('Lane {0}'.format(lane_id))\n",
    "    display(p)"
   ]
  },
  {
   "cell_type": "markdown",
   "id": "baf6ce23-56bd-4b2d-b213-dfed88d0affc",
   "metadata": {},
   "source": [
    "## Index hopping summary"
   ]
  },
  {
   "cell_type": "code",
   "execution_count": null,
   "id": "1d2bb8a8-1eef-4472-97a5-b4b20964ee7f",
   "metadata": {},
   "outputs": [],
   "source": [
    "HTML(combined_ihop_df.to_html(index=False))"
   ]
  },
  {
   "cell_type": "markdown",
   "id": "d36e8a46-e421-48a6-9c81-05e8fd78d327",
   "metadata": {},
   "source": [
    "## Index hopping bar plot for lane"
   ]
  },
  {
   "cell_type": "code",
   "execution_count": null,
   "id": "3f0d5f5a-85b3-4ab3-89a6-1c21d64338ab",
   "metadata": {},
   "outputs": [],
   "source": [
    "hop_plot"
   ]
  },
  {
   "cell_type": "code",
   "execution_count": null,
   "id": "01b969b9",
   "metadata": {},
   "outputs": [],
   "source": []
  }
 ],
 "metadata": {
  "kernelspec": {
   "display_name": "Python 3",
   "language": "python",
   "name": "python3"
  },
  "language_info": {
   "codemirror_mode": {
    "name": "ipython",
    "version": 3
   },
   "file_extension": ".py",
   "mimetype": "text/x-python",
   "name": "python",
   "nbconvert_exporter": "python",
   "pygments_lexer": "ipython3",
   "version": "3.7.12"
  }
 },
 "nbformat": 4,
 "nbformat_minor": 5
}
